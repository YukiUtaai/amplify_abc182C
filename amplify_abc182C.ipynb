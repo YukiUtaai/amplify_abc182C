{
 "cells": [
  {
   "cell_type": "code",
   "execution_count": 1,
   "metadata": {},
   "outputs": [],
   "source": [
    "from amplify import gen_symbols, BinaryPoly\n",
    "from amplify import sum_poly\n",
    "from amplify.constraint import equal_to\n",
    "import matplotlib.pyplot as plt\n",
    "from amplify import Solver\n",
    "from amplify.client import FixstarsClient\n",
    "import matplotlib.ticker as ticker   \n",
    "import os  "
   ]
  },
  {
   "cell_type": "code",
   "execution_count": 4,
   "metadata": {},
   "outputs": [],
   "source": [
    "def q_annealing(n):\n",
    "    q = gen_symbols(BinaryPoly, len(n))\n",
    "    q2 = gen_symbols(BinaryPoly, len(n), (3*18, ))\n",
    "\n",
    "    f = 0\n",
    "    g = 0\n",
    "    for i in range(len(n)):\n",
    "        f += int(n[i]) * q[i]\n",
    "    \n",
    "    for i in range(3*18):\n",
    "        f += -3 * q2[i]\n",
    "    \n",
    "    for i in range(len(n)):\n",
    "        g -= q[i]\n",
    "    \n",
    "    model = 10 * f**2 + g\n",
    "        \n",
    "    # 計算実行------------------------------------------------------------------------------------------\n",
    "    client = FixstarsClient()\n",
    "    with open(\"tokenfile.txt\", \"r\") as f:\n",
    "        token = f.readline()\n",
    "    client.token = token\n",
    "    client.parameters.timeout = 9900  # タイムアウト9秒\n",
    "    solver = Solver(client)\n",
    "\n",
    "    result = solver.solve(model)\n",
    "    if len(result) == 0:\n",
    "        raise RuntimeError(\"Any one of constraints is not satisfied.\")\n",
    "\n",
    "    energy, values = result[0].energy, result[0].values    \n",
    "    # values_sorted = sorted(values.items(), key=lambda x:x[0])\n",
    "    # print(energy, values_sorted)\n",
    "    ans = len(n)\n",
    "    for i in range(len(n)):\n",
    "        ans -= values[i]\n",
    "    if ans == len(n):\n",
    "        ans = -1\n",
    "    \n",
    "    return ans"
   ]
  },
  {
   "cell_type": "code",
   "execution_count": 5,
   "metadata": {},
   "outputs": [
    {
     "name": "stdout",
     "output_type": "stream",
     "text": [
      "all_00.txt Amplify結果 = 0 正解 = 0\n",
      "all_01.txt Amplify結果 = -1 正解 = -1\n",
      "all_02.txt Amplify結果 = 1 正解 = 1\n",
      "all_03.txt Amplify結果 = -1 正解 = -1\n",
      "all_04.txt Amplify結果 = 2 正解 = 2\n",
      "all_05.txt Amplify結果 = -1 正解 = -1\n",
      "all_06.txt Amplify結果 = 1 正解 = 1\n",
      "all_07.txt Amplify結果 = 0 正解 = 0\n",
      "all_08.txt Amplify結果 = 0 正解 = 0\n",
      "all_09.txt Amplify結果 = 1 正解 = 1\n",
      "all_10.txt Amplify結果 = 1 正解 = 1\n",
      "all_11.txt Amplify結果 = -1 正解 = -1\n",
      "all_12.txt Amplify結果 = 2 正解 = 2\n",
      "all_13.txt Amplify結果 = 1 正解 = 1\n",
      "all_14.txt Amplify結果 = 1 正解 = 1\n",
      "all_15.txt Amplify結果 = 0 正解 = 0\n",
      "all_16.txt Amplify結果 = 0 正解 = 0\n",
      "handmade_00.txt Amplify結果 = 0 正解 = 0\n",
      "random_00.txt Amplify結果 = 1 正解 = 1\n",
      "random_01.txt Amplify結果 = -1 正解 = -1\n",
      "random_02.txt Amplify結果 = 1 正解 = 1\n",
      "random_03.txt Amplify結果 = 0 正解 = 0\n",
      "random_04.txt Amplify結果 = 0 正解 = 0\n",
      "sample_01.txt Amplify結果 = 1 正解 = 1\n",
      "sample_02.txt Amplify結果 = 0 正解 = 0\n",
      "sample_03.txt Amplify結果 = 1 正解 = 1\n",
      "sample_04.txt Amplify結果 = -1 正解 = -1\n"
     ]
    }
   ],
   "source": [
    "folder = \"ABC182C/\"\n",
    "files = os.listdir(folder + \"in\")\n",
    "\n",
    "for file in files:\n",
    "    with open(folder + \"in/\" + file, \"r\") as f:\n",
    "        n = f.readline().rstrip()\n",
    "\n",
    "    with open(folder + \"out/\" + file, \"r\") as f:\n",
    "        ans = int(f.readline())\n",
    "\n",
    "    result = q_annealing(n)\n",
    "    print(file, \"Amplify結果 =\", result, \"正解 =\", ans)\n"
   ]
  },
  {
   "cell_type": "code",
   "execution_count": null,
   "metadata": {},
   "outputs": [],
   "source": []
  },
  {
   "cell_type": "code",
   "execution_count": null,
   "metadata": {},
   "outputs": [],
   "source": []
  }
 ],
 "metadata": {
  "kernelspec": {
   "display_name": "Python 3",
   "language": "python",
   "name": "python3"
  },
  "language_info": {
   "codemirror_mode": {
    "name": "ipython",
    "version": 3
   },
   "file_extension": ".py",
   "mimetype": "text/x-python",
   "name": "python",
   "nbconvert_exporter": "python",
   "pygments_lexer": "ipython3",
   "version": "3.8.5"
  }
 },
 "nbformat": 4,
 "nbformat_minor": 4
}
